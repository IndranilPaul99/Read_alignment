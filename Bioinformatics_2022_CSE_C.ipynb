{
  "nbformat": 4,
  "nbformat_minor": 0,
  "metadata": {
    "colab": {
      "name": "Bioinformatics 2022 CSE-C",
      "provenance": [],
      "collapsed_sections": [],
      "authorship_tag": "ABX9TyNzCsk6lIPqouxrcoTirVMy",
      "include_colab_link": true
    },
    "kernelspec": {
      "name": "python3",
      "display_name": "Python 3"
    },
    "language_info": {
      "name": "python"
    }
  },
  "cells": [
    {
      "cell_type": "markdown",
      "metadata": {
        "id": "view-in-github",
        "colab_type": "text"
      },
      "source": [
        "<a href=\"https://colab.research.google.com/github/IndranilPaul99/Read_alignment/blob/main/Bioinformatics_2022_CSE_C.ipynb\" target=\"_parent\"><img src=\"https://colab.research.google.com/assets/colab-badge.svg\" alt=\"Open In Colab\"/></a>"
      ]
    },
    {
      "cell_type": "markdown",
      "source": [
        "# **Creating Test Data**"
      ],
      "metadata": {
        "id": "tDRiZ9SmZ8QQ"
      }
    },
    {
      "cell_type": "markdown",
      "source": [
        "## Function to generate a random Reference Genome"
      ],
      "metadata": {
        "id": "oLxn8rhfbJZn"
      }
    },
    {
      "cell_type": "code",
      "source": [
        "import random\n",
        "\n",
        "def generate_Random_Reference_Genome( length_of_genome ) :\n",
        "    bases = [\"A\" , \"C\" , \"G\" , \"T\"]\n",
        "    genome = open(\"reference_genome\",\"w\")\n",
        "    for i in range( length_of_genome ) :\n",
        "        genome.write(random.choice(bases))\n",
        "    genome.close()\n",
        "    print(\" Generation Complete!!\")"
      ],
      "metadata": {
        "id": "-W6-d76KrjAT"
      },
      "execution_count": 1,
      "outputs": []
    },
    {
      "cell_type": "code",
      "source": [
        "#@title Generate Reference Genome { vertical-output: true, display-mode: \"form\" }\n",
        "length_of_genome = 10000 #@param {type:\"integer\"}\n",
        "\n",
        "generate_Random_Reference_Genome( length_of_genome )\n"
      ],
      "metadata": {
        "id": "4eDL5Nbkbvv9",
        "colab": {
          "base_uri": "https://localhost:8080/"
        },
        "outputId": "94d2ca0c-67d0-4cf0-cd89-ff6b9960442a"
      },
      "execution_count": 41,
      "outputs": [
        {
          "output_type": "stream",
          "name": "stdout",
          "text": [
            " Generation Complete!!\n"
          ]
        }
      ]
    },
    {
      "cell_type": "markdown",
      "source": [
        "## Function to create a Sample Genome from the Reference Genome with dissimilarities"
      ],
      "metadata": {
        "id": "TvXHM7NvaQ7i"
      }
    },
    {
      "cell_type": "code",
      "source": [
        "import random\n",
        "\n",
        "def create_Sample_Genome( variation_percentage ) :\n",
        "    bases = {\n",
        "        \"A\" : [\"C\" , \"G\" , \"T\" ],\n",
        "        \"C\" : [\"A\" , \"G\" , \"T\" ],\n",
        "        \"G\" : [\"A\" , \"C\" , \"T\" ],\n",
        "        \"T\" : [\"A\" , \"C\" , \"T\" ]\n",
        "    }\n",
        "\n",
        "    reference_genome = open(\"reference_genome\",\"r\")\n",
        "    sample_genome = open(\"sample_genome\",\"w\")\n",
        "\n",
        "    count = 0\n",
        "    while True:\n",
        "        base = reference_genome.read(1)\n",
        "        if not base :\n",
        "            break\n",
        "        r = random.uniform(0,100)\n",
        "        if( r <= variation_percentage ) :\n",
        "            count += 1\n",
        "            sample_genome.write( random.choice(bases[base]) )\n",
        "        else :\n",
        "            sample_genome.write( base )\n",
        "    reference_genome.close()\n",
        "    sample_genome.close()\n",
        "    print( \" Number of dissimilarities = \" , count )"
      ],
      "metadata": {
        "id": "acbB8Rc6akaq"
      },
      "execution_count": null,
      "outputs": []
    },
    {
      "cell_type": "code",
      "source": [
        "#@title Generate Sample Genome { vertical-output: true, display-mode: \"form\" }\n",
        "variance_of_sample_genome = 2 #@param {type:\"slider\", min:0, max:20, step:0.1}\n",
        "\n",
        "create_Sample_Genome( variance_of_sample_genome )"
      ],
      "metadata": {
        "id": "PT_qP0Q-iMmd"
      },
      "execution_count": null,
      "outputs": []
    },
    {
      "cell_type": "markdown",
      "source": [
        "## Function to create reads from Sample Genome\n",
        "Offset of each read is saved for later verification."
      ],
      "metadata": {
        "id": "ESm_K-BvzeXC"
      }
    },
    {
      "cell_type": "code",
      "source": [
        "import random\n",
        "\n",
        "def generate_Reads( min_read_length , max_read_length , iterations ) :\n",
        "    sample_reads = open( \"sample_reads\" , \"w\" )\n",
        "    read_indexes = open( \"reads_indexes\" , \"w\" )\n",
        "    sample_genome = open( \"sample_genome\" , \"r\" )\n",
        "\n",
        "    count = 0\n",
        "    for _ in range(iterations) :\n",
        "        sample_genome.seek(0)\n",
        "        while True :\n",
        "            position_of_read = sample_genome.tell()\n",
        "            read_length = random.randint( min_read_length , max_read_length )\n",
        "            read = sample_genome.read( read_length )\n",
        "            if not read :\n",
        "                break\n",
        "            sample_reads.writelines( read + \"\\n\" )\n",
        "            read_indexes.write( str(position_of_read) + \"\\n\" )\n",
        "            count += 1\n",
        "    \n",
        "    sample_reads.close()\n",
        "    read_indexes.close()\n",
        "    sample_genome.close()\n",
        "    print( \" Number of reads produced = \" , count )"
      ],
      "metadata": {
        "id": "ZmA8sv-HbV2v"
      },
      "execution_count": null,
      "outputs": []
    },
    {
      "cell_type": "code",
      "source": [
        "#@title Extract Reads from Sample Genome { vertical-output: true, display-mode: \"form\" }\n",
        "min_read_length =  20#@param {type:\"integer\"}\n",
        "max_read_length = 30 #@param {type:\"integer\"}\n",
        "iterations =  15#@param {type:\"number\"}\n",
        "\n",
        "if min_read_length < max_read_length and min_read_length < length_of_genome :\n",
        "    generate_Reads( min_read_length , max_read_length , iterations )\n",
        "else :\n",
        "    print( \" Invalid values !!! \" )\n"
      ],
      "metadata": {
        "id": "tqgUweGC5_PE"
      },
      "execution_count": null,
      "outputs": []
    },
    {
      "cell_type": "markdown",
      "source": [
        "# **Producing the Burrows-Wheller Transform**"
      ],
      "metadata": {
        "id": "P8_8eAPvkcuT"
      }
    },
    {
      "cell_type": "markdown",
      "source": [
        "## Making the Burrows-Wheeler Transform\n",
        "Offset are also sorted in the order of the rotations i.e. the suffix array is created. This array records the position of each base of the BWT in the reference genome."
      ],
      "metadata": {
        "id": "bg4HmurIlNb8"
      }
    },
    {
      "cell_type": "code",
      "source": [
        "def burrows_wheeler() :\n",
        "    genome = open( \"reference_genome\" , \"r\" ).read() + \"$\"\n",
        "    offsets = [ i for i in range( len( genome ) ) ]\n",
        "    offsets.sort( key = lambda i : genome[i:] + genome[:i] )\n",
        "\n",
        "    with open( \"l_col\" , \"w\" ) as file1 , open( \"r_col\" , \"w\" ) as file2 , open( \"offsets\" , \"w\" ) as file3 :\n",
        "        for i in offsets :\n",
        "            rotation = genome[i:] + genome[:i]\n",
        "            file1.write( rotation[0] )\n",
        "            file2.write( rotation[-1] )\n",
        "            file3.write( str(i) + \"\\n\" )\n",
        "\n",
        "    print( \"BWT Produced !!!\" )\n",
        "\n",
        "burrows_wheeler()"
      ],
      "metadata": {
        "id": "N12082LXloYI",
        "colab": {
          "base_uri": "https://localhost:8080/"
        },
        "outputId": "3b9f47e0-ca7e-4dc8-f1ef-ba49e30ef757"
      },
      "execution_count": 50,
      "outputs": [
        {
          "output_type": "stream",
          "name": "stdout",
          "text": [
            "BWT Produced !!!\n"
          ]
        }
      ]
    },
    {
      "cell_type": "markdown",
      "source": [
        "## Making the Rank , Skip and Select Tables"
      ],
      "metadata": {
        "id": "5Hyt7txpa0Id"
      }
    },
    {
      "cell_type": "code",
      "source": [
        "def generate_Rank_Select_Skip() :\n",
        "    bwt = open( \"r_col\" , \"r\" ).read()\n",
        "    rank = { \"$\" : [] , \"A\" : [] , \"C\" : [] , \"G\" : [] , \"T\" : [] }\n",
        "    temp_ranks = { \"$\" : -1 , \"A\" : -1 , \"C\" : -1 , \"G\" : -1 , \"T\" : -1 }\n",
        "    skip = { \"$\" : 0 , \"A\" : 0 , \"C\" : 0 , \"G\" : 0 , \"T\" : 0 }\n",
        "    select = { \"$\" : [] , \"A\" : [] , \"C\" : [] , \"G\" : [] , \"T\" : [] }\n",
        "    \n",
        "    for base in bwt :\n",
        "        temp_ranks[base] += 1\n",
        "        for ch in [ \"$\" , \"A\" , \"C\" , \"G\" , \"T\" ] :\n",
        "            rank[ch].append( temp_ranks[ch] )\n",
        "    prev = \"$\"\n",
        "    for curr in [ \"A\" , \"C\" , \"G\" , \"T\" ] :\n",
        "        skip[curr] = temp_ranks[prev] + skip[prev] + 1\n",
        "        prev = curr\n",
        "    for i in range( len( bwt ) ) :\n",
        "        select[ bwt[i] ].append( i )\n",
        "    with open( \"rank\" , \"w\" ) as file1 , open( \"skip\" , \"w\" ) as file2 , open( \"select\" , \"w\" ) as file3 :\n",
        "        for ch in [ \"$\" , \"A\" , \"C\" , \"G\" , \"T\" ] :\n",
        "            for num in rank[ch] :\n",
        "                file1.write( str( num ) + \" \" )\n",
        "            file1.write( \"\\n\" )\n",
        "            file2.write( str( skip[ch] ) + \"\\n\" )\n",
        "            for num in select[ch] :\n",
        "                file3.write( str( num ) + \" \" )\n",
        "            file3.write( \"\\n\" )\n",
        "    print( \"rank , select , skip generated!!!\" )\n",
        "\n",
        "generate_Rank_Select_Skip()"
      ],
      "metadata": {
        "id": "lyCKjVjgbIzH",
        "colab": {
          "base_uri": "https://localhost:8080/"
        },
        "outputId": "3ff6f385-88ad-4c51-a644-423c7c0edf1c"
      },
      "execution_count": 51,
      "outputs": [
        {
          "output_type": "stream",
          "name": "stdout",
          "text": [
            "rank , select , skip generated!!!\n"
          ]
        }
      ]
    },
    {
      "cell_type": "markdown",
      "source": [
        "## Reversing The Burrows-Wheller Transform"
      ],
      "metadata": {
        "id": "ZU_bj_7gbPuZ"
      }
    },
    {
      "cell_type": "code",
      "source": [
        "def reverse_BWT() :\n",
        "    rank = {}\n",
        "    skip = {}\n",
        "    with open( \"rank\" , \"r\" ) as f1 , open( \"skip\" , \"r\" ) as f2 :\n",
        "        for base in [ \"$\" , \"A\" , \"C\" , \"G\" , \"T\" ] :\n",
        "            rank.update( { base : [ int(i) for i in f1.readline().strip( \" \\n\" ).split( \" \" ) ] } )\n",
        "            skip.update( { base : int( f2.readline() ) } )\n",
        "    bwt = open( \"r_col\" , \"r\" ).read()\n",
        "    \n",
        "    reversed_bwt = \"\"\n",
        "    offset = 0\n",
        "    while True :\n",
        "        base = bwt[ offset ]\n",
        "        if base is \"$\" :\n",
        "            break\n",
        "        reversed_bwt = base + reversed_bwt\n",
        "        offset = skip[ base ] + rank[ base ][ offset ]\n",
        "    \n",
        "    reference_genome = open( \"reference_genome\" , \"r\" ).read()\n",
        "    if reversed_bwt == reference_genome :\n",
        "        print( \"BWT reversal successful !!!\" )\n",
        "    else :\n",
        "        print( \"BWT reversal unsuccessful.\" )\n",
        "\n",
        "reverse_BWT()"
      ],
      "metadata": {
        "id": "Mf05RvLAbY9J",
        "colab": {
          "base_uri": "https://localhost:8080/"
        },
        "outputId": "d328561f-679f-439a-99a9-b488198a866c"
      },
      "execution_count": 52,
      "outputs": [
        {
          "output_type": "stream",
          "name": "stdout",
          "text": [
            "BWT reversal successful !!!\n"
          ]
        }
      ]
    }
  ]
}