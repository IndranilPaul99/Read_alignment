{
  "nbformat": 4,
  "nbformat_minor": 0,
  "metadata": {
    "colab": {
      "name": "Bioinformatics 2022 CSE-C",
      "provenance": [],
      "collapsed_sections": [],
      "authorship_tag": "ABX9TyNG17pnyd63oKthDsDsQLSN",
      "include_colab_link": true
    },
    "kernelspec": {
      "name": "python3",
      "display_name": "Python 3"
    },
    "language_info": {
      "name": "python"
    }
  },
  "cells": [
    {
      "cell_type": "markdown",
      "metadata": {
        "id": "view-in-github",
        "colab_type": "text"
      },
      "source": [
        "<a href=\"https://colab.research.google.com/github/IndranilPaul99/Read_alignment/blob/main/Bioinformatics_2022_CSE_C.ipynb\" target=\"_parent\"><img src=\"https://colab.research.google.com/assets/colab-badge.svg\" alt=\"Open In Colab\"/></a>"
      ]
    },
    {
      "cell_type": "markdown",
      "source": [
        "# **Creating Test Data**"
      ],
      "metadata": {
        "id": "tDRiZ9SmZ8QQ"
      }
    },
    {
      "cell_type": "markdown",
      "source": [
        "## Function to generate a random Reference Genome"
      ],
      "metadata": {
        "id": "oLxn8rhfbJZn"
      }
    },
    {
      "cell_type": "code",
      "source": [
        "import random\n",
        "\n",
        "def generate_Random_Reference_Genome( length_of_genome ) :\n",
        "    bases = [\"A\" , \"C\" , \"G\" , \"T\"]\n",
        "    genome = open(\"reference_genome\",\"w\")\n",
        "    for i in range( length_of_genome ) :\n",
        "        genome.write(random.choice(bases))\n",
        "    genome.close()\n",
        "    print(\" Generation Complete!!\")"
      ],
      "metadata": {
        "id": "-W6-d76KrjAT"
      },
      "execution_count": null,
      "outputs": []
    },
    {
      "cell_type": "code",
      "source": [
        "#@title Generate Reference Genome { vertical-output: true, display-mode: \"form\" }\n",
        "length_of_genome = 10000 #@param {type:\"integer\"}\n",
        "\n",
        "generate_Random_Reference_Genome( length_of_genome )\n"
      ],
      "metadata": {
        "id": "4eDL5Nbkbvv9",
        "colab": {
          "base_uri": "https://localhost:8080/"
        },
        "outputId": "c0d3316a-cdd6-41f8-dfd5-0c7ab422d7d1"
      },
      "execution_count": null,
      "outputs": [
        {
          "output_type": "stream",
          "name": "stdout",
          "text": [
            " Generation Complete!!\n"
          ]
        }
      ]
    },
    {
      "cell_type": "markdown",
      "source": [
        "## Function to create a Sample Genome from the Reference Genome with dissimilarities"
      ],
      "metadata": {
        "id": "TvXHM7NvaQ7i"
      }
    },
    {
      "cell_type": "code",
      "source": [
        "import random\n",
        "\n",
        "def create_Sample_Genome( variation_percentage ) :\n",
        "    bases = {\n",
        "        \"A\" : [\"C\" , \"G\" , \"T\" ],\n",
        "        \"C\" : [\"A\" , \"G\" , \"T\" ],\n",
        "        \"G\" : [\"A\" , \"C\" , \"T\" ],\n",
        "        \"T\" : [\"A\" , \"C\" , \"T\" ]\n",
        "    }\n",
        "\n",
        "    reference_genome = open(\"reference_genome\",\"r\")\n",
        "    sample_genome = open(\"sample_genome\",\"w\")\n",
        "\n",
        "    count = 0\n",
        "    while True:\n",
        "        base = reference_genome.read(1)\n",
        "        if not base :\n",
        "            break\n",
        "        r = random.uniform(0,100)\n",
        "        if( r <= variation_percentage ) :\n",
        "            count += 1\n",
        "            sample_genome.write( random.choice(bases[base]) )\n",
        "        else :\n",
        "            sample_genome.write( base )\n",
        "    reference_genome.close()\n",
        "    sample_genome.close()\n",
        "    print( \" Number of dissimilarities = \" , count )"
      ],
      "metadata": {
        "id": "acbB8Rc6akaq"
      },
      "execution_count": null,
      "outputs": []
    },
    {
      "cell_type": "code",
      "source": [
        "#@title Generate Sample Genome { vertical-output: true, display-mode: \"form\" }\n",
        "variance_of_sample_genome = 0.2 #@param {type:\"slider\", min:0, max:3, step:0.01}\n",
        "\n",
        "create_Sample_Genome( variance_of_sample_genome )"
      ],
      "metadata": {
        "id": "PT_qP0Q-iMmd",
        "colab": {
          "base_uri": "https://localhost:8080/"
        },
        "outputId": "d6dcaf04-0cd2-4458-df92-4cdcb1e08bc5"
      },
      "execution_count": null,
      "outputs": [
        {
          "output_type": "stream",
          "name": "stdout",
          "text": [
            " Number of dissimilarities =  24\n"
          ]
        }
      ]
    },
    {
      "cell_type": "markdown",
      "source": [
        "## Function to create reads from Sample Genome\n",
        "Offset of each read is saved for later verification."
      ],
      "metadata": {
        "id": "ESm_K-BvzeXC"
      }
    },
    {
      "cell_type": "code",
      "source": [
        "import random\n",
        "\n",
        "def generate_Reads( min_read_length , max_read_length , iterations , edit_percent , edit_ratio ) :\n",
        "    sample_reads = open( \"sample_reads\" , \"w\" )\n",
        "    read_indexes = open( \"reads_indexes\" , \"w\" )\n",
        "    sample_genome = open( \"sample_genome\" , \"r\" )\n",
        "\n",
        "    count = 0\n",
        "    reads_with_edits = [ 0 for i in range( len(edit_ratio) ) ]\n",
        "    for _ in range(iterations) :\n",
        "        sample_genome.seek(0)\n",
        "        while True :\n",
        "            position_of_read = sample_genome.tell()\n",
        "            read_length = random.randint( min_read_length , max_read_length )\n",
        "            read = sample_genome.read( read_length )\n",
        "            if not read :\n",
        "                break\n",
        "            if random.uniform( 0 , 100 ) <= edit_percent :\n",
        "                seed = random.uniform( 0 , 100 )\n",
        "                for i in range( len( edit_ratio ) ) :\n",
        "                    if seed <= edit_ratio[i] :\n",
        "                        edits = i+1\n",
        "                        break\n",
        "                if edits < len( read ) :\n",
        "                    reads_with_edits[ edits-1 ] += 1\n",
        "                    edit_offsets = random.sample( range( len(read) ) , edits )\n",
        "                    for i in edit_offsets :\n",
        "                        read = read[:i] +  read[i+1:]\n",
        "            sample_reads.writelines( read + \"\\n\" )\n",
        "            read_indexes.write( str(position_of_read) + \"\\n\" )\n",
        "            count += 1\n",
        "    \n",
        "    sample_reads.close()\n",
        "    read_indexes.close()\n",
        "    sample_genome.close()\n",
        "    print( \" Number of reads produced = \" , count , \" \\n Reads with edits = \" , reads_with_edits )"
      ],
      "metadata": {
        "id": "Yx-a9z-hrFB4"
      },
      "execution_count": null,
      "outputs": []
    },
    {
      "cell_type": "code",
      "source": [
        "#@title Extract Reads from Sample Genome { vertical-output: true, display-mode: \"form\" }\n",
        "min_read_length =  20#@param {type:\"integer\"}\n",
        "max_read_length = 30 #@param {type:\"integer\"}\n",
        "iterations =  15#@param {type:\"number\"}\n",
        "edit_percent = 2 #@param {type:\"slider\", min:0, max:4, step:0.01}\n",
        "edits_per_read = 2 #@param {type:\"slider\", min:0, max:10, step:1}\n",
        "#@markdown Enter Ratio for the number of edits\n",
        "ratio = \"5 2\" #@param {type:\"string\"}\n",
        "\n",
        "edit_ratio = [ int(i) for i in ratio.split() ]\n",
        "sum = 0\n",
        "for i in edit_ratio :\n",
        "    sum += i\n",
        "prev = 0\n",
        "for i in range( len(edit_ratio) ) :\n",
        "    edit_ratio[i] = (edit_ratio[i]/sum)*100 + prev\n",
        "    prev = edit_ratio[i]\n",
        "if min_read_length < max_read_length and min_read_length < length_of_genome and len(edit_ratio) is edits_per_read :\n",
        "    generate_Reads( min_read_length , max_read_length , iterations , edit_percent , edit_ratio )\n",
        "else :\n",
        "    print( \" Invalid values !!! \" )\n"
      ],
      "metadata": {
        "id": "tqgUweGC5_PE",
        "colab": {
          "base_uri": "https://localhost:8080/"
        },
        "outputId": "d3f5ca0b-01ec-4892-c2fa-92c6bd3750c0"
      },
      "execution_count": null,
      "outputs": [
        {
          "output_type": "stream",
          "name": "stdout",
          "text": [
            " Number of reads produced =  5999  \n",
            " Reads with edits =  [93, 35]\n"
          ]
        }
      ]
    },
    {
      "cell_type": "markdown",
      "source": [
        "# **Burrows-Wheller Transform and FM Index**"
      ],
      "metadata": {
        "id": "P8_8eAPvkcuT"
      }
    },
    {
      "cell_type": "markdown",
      "source": [
        "## Making the Burrows-Wheeler Transform\n",
        "Offset are also sorted in the order of the rotations i.e. the suffix array is created. This array records the position of each base of the BWT in the reference genome."
      ],
      "metadata": {
        "id": "bg4HmurIlNb8"
      }
    },
    {
      "cell_type": "code",
      "source": [
        "def burrows_wheeler() :\n",
        "    genome = open( \"reference_genome\" , \"r\" ).read() + \"$\"\n",
        "    offsets = [ i for i in range( len( genome ) ) ]\n",
        "    offsets.sort( key = lambda i : genome[i:] + genome[:i] )\n",
        "\n",
        "    with open( \"f\" , \"w\" ) as file1 , open( \"l\" , \"w\" ) as file2 , open( \"offsets\" , \"w\" ) as file3 :\n",
        "        for i in offsets :\n",
        "            rotation = genome[i:] + genome[:i]\n",
        "            file1.write( rotation[0] )\n",
        "            file2.write( rotation[-1] )\n",
        "            file3.write( str(i) + \"\\n\" )\n",
        "\n",
        "    print( \"BWT Produced !!!\" )\n",
        "\n",
        "burrows_wheeler()"
      ],
      "metadata": {
        "id": "N12082LXloYI",
        "colab": {
          "base_uri": "https://localhost:8080/"
        },
        "outputId": "8e78a55a-288c-43f4-8174-b62603d0aa6c"
      },
      "execution_count": null,
      "outputs": [
        {
          "output_type": "stream",
          "name": "stdout",
          "text": [
            "BWT Produced !!!\n"
          ]
        }
      ]
    },
    {
      "cell_type": "markdown",
      "source": [
        "## Making the Rank , Skip and Select Tables"
      ],
      "metadata": {
        "id": "5Hyt7txpa0Id"
      }
    },
    {
      "cell_type": "code",
      "source": [
        "def generate_Rank_Select_Skip() :\n",
        "    bwt = open( \"l\" , \"r\" ).read()\n",
        "    rank = { \"$\" : [] , \"A\" : [] , \"C\" : [] , \"G\" : [] , \"T\" : [] }\n",
        "    temp_ranks = { \"$\" : -1 , \"A\" : -1 , \"C\" : -1 , \"G\" : -1 , \"T\" : -1 }\n",
        "    skip = { \"$\" : 0 , \"A\" : 0 , \"C\" : 0 , \"G\" : 0 , \"T\" : 0 }\n",
        "    select = { \"$\" : [] , \"A\" : [] , \"C\" : [] , \"G\" : [] , \"T\" : [] }\n",
        "    \n",
        "    for base in bwt :\n",
        "        temp_ranks[base] += 1\n",
        "        for ch in [ \"$\" , \"A\" , \"C\" , \"G\" , \"T\" ] :\n",
        "            rank[ch].append( temp_ranks[ch] )\n",
        "    prev = \"$\"\n",
        "    for curr in [ \"A\" , \"C\" , \"G\" , \"T\" ] :\n",
        "        skip[curr] = temp_ranks[prev] + skip[prev] + 1\n",
        "        prev = curr\n",
        "    for i in range( len( bwt ) ) :\n",
        "        select[ bwt[i] ].append( i )\n",
        "    with open( \"rank\" , \"w\" ) as file1 , open( \"skip\" , \"w\" ) as file2 , open( \"select\" , \"w\" ) as file3 :\n",
        "        for ch in [ \"$\" , \"A\" , \"C\" , \"G\" , \"T\" ] :\n",
        "            for num in rank[ch] :\n",
        "                file1.write( str( num ) + \" \" )\n",
        "            file1.write( \"\\n\" )\n",
        "            file2.write( str( skip[ch] ) + \"\\n\" )\n",
        "            for num in select[ch] :\n",
        "                file3.write( str( num ) + \" \" )\n",
        "            file3.write( \"\\n\" )\n",
        "    print( \"rank , select , skip generated!!!\" )\n",
        "\n",
        "generate_Rank_Select_Skip()"
      ],
      "metadata": {
        "id": "lyCKjVjgbIzH",
        "colab": {
          "base_uri": "https://localhost:8080/"
        },
        "outputId": "09298080-df8a-4da1-e380-320dfc86be44"
      },
      "execution_count": null,
      "outputs": [
        {
          "output_type": "stream",
          "name": "stdout",
          "text": [
            "rank , select , skip generated!!!\n"
          ]
        }
      ]
    },
    {
      "cell_type": "markdown",
      "source": [
        "## Reversing The Burrows-Wheller Transform"
      ],
      "metadata": {
        "id": "ZU_bj_7gbPuZ"
      }
    },
    {
      "cell_type": "code",
      "source": [
        "def reverse_BWT() :\n",
        "    rank = {}\n",
        "    skip = {}\n",
        "    with open( \"rank\" , \"r\" ) as f1 , open( \"skip\" , \"r\" ) as f2 :\n",
        "        for base in [ \"$\" , \"A\" , \"C\" , \"G\" , \"T\" ] :\n",
        "            rank.update( { base : [ int(i) for i in f1.readline().strip( \" \\n\" ).split( \" \" ) ] } )\n",
        "            skip.update( { base : int( f2.readline() ) } )\n",
        "    bwt = open( \"l\" , \"r\" ).read()\n",
        "    \n",
        "    reversed_bwt = \"\"\n",
        "    offset = 0\n",
        "    while True :\n",
        "        base = bwt[ offset ]\n",
        "        if base is \"$\" :\n",
        "            break\n",
        "        reversed_bwt = base + reversed_bwt\n",
        "        offset = skip[ base ] + rank[ base ][ offset ]\n",
        "    \n",
        "    reference_genome = open( \"reference_genome\" , \"r\" ).read()\n",
        "    if reversed_bwt == reference_genome :\n",
        "        print( \"BWT reversal successful !!!\" )\n",
        "    else :\n",
        "        print( \"BWT reversal unsuccessful.\" )\n",
        "\n",
        "reverse_BWT()"
      ],
      "metadata": {
        "id": "Mf05RvLAbY9J",
        "colab": {
          "base_uri": "https://localhost:8080/"
        },
        "outputId": "6ced52a0-ed17-4b8b-b840-0c7439ba3c07"
      },
      "execution_count": null,
      "outputs": [
        {
          "output_type": "stream",
          "name": "stdout",
          "text": [
            "BWT reversal successful !!!\n"
          ]
        }
      ]
    },
    {
      "cell_type": "markdown",
      "source": [
        "## BWT Class"
      ],
      "metadata": {
        "id": "E67gkBZ1nBaQ"
      }
    },
    {
      "cell_type": "code",
      "source": [
        "class Burrows_Wheelers :\n",
        "\n",
        "    offsets = None\n",
        "\n",
        "    def __init__( self , file_name = \"reference_genome\" ) :\n",
        "        self.genome = open( file_name , \"r\" ).read() + \"$\"\n",
        "        self.length = len( self.genome )\n",
        "        self.f , self.l = self.create_BWT()\n",
        "        self.rank , self.skip , self.select = self.generate_Rank_Select_Skip()\n",
        "\n",
        "    def __iter__( self ) :\n",
        "        self.iterate_base = 0\n",
        "        return self\n",
        "\n",
        "    def __next__( self ) :\n",
        "        if self.iterate_base < self.length :\n",
        "            current_base = self.iterate_base\n",
        "            self.iterate_base += 1\n",
        "            return self.l[ current_base ]\n",
        "        else :\n",
        "            raise StopIteration\n",
        "    \n",
        "    def __getitem__(self, key) :\n",
        "        return self.l[key]\n",
        "\n",
        "    def create_BWT( self ) :\n",
        "        l = \"\"\n",
        "        r = \"\"\n",
        "        self.offsets = [ i for i in range( self.length ) ]\n",
        "        self.offsets.sort( key = lambda i : self.genome[i:] + self.genome[:i] )\n",
        "        for i in self.offsets :\n",
        "            rotation = self.genome[i:] + self.genome[:i]\n",
        "            l += rotation[0]\n",
        "            r += rotation[-1:]\n",
        "        return l , r\n",
        "\n",
        "    def generate_Rank_Select_Skip( self ) :\n",
        "        rank = { \"$\" : [] , \"A\" : [] , \"C\" : [] , \"G\" : [] , \"T\" : [] }\n",
        "        skip = { \"$\" : 0 , \"A\" : 0 , \"C\" : 0 , \"G\" : 0 , \"T\" : 0 }\n",
        "        select = { \"$\" : [] , \"A\" : [] , \"C\" : [] , \"G\" : [] , \"T\" : [] }\n",
        "        \n",
        "        for ch in [ \"$\" , \"A\" , \"C\" , \"G\" , \"T\" ] :\n",
        "            temp = 0\n",
        "            for base in self.l :\n",
        "                rank[ch].append( temp )\n",
        "                if( base is ch ) :\n",
        "                    temp += 1\n",
        "            rank[ch].append( temp )\n",
        "        prev = \"$\"\n",
        "        for curr in [ \"A\" , \"C\" , \"G\" , \"T\" ] :\n",
        "            skip[curr] = rank[prev][self.length] + skip[prev]\n",
        "            prev = curr\n",
        "        for i in range( self.length ) :\n",
        "            select[ self.l[i] ].append( i )\n",
        "        return rank , skip , select\n",
        "\n",
        "    def suffix( self , index = 0 ) :\n",
        "        if ( index < 0 or index >= self.length ) :\n",
        "            return None\n",
        "        index +=1\n",
        "        sfx = \"\"\n",
        "        offset = 0\n",
        "        while index < self.length :\n",
        "            base = self.l[ offset ]\n",
        "            sfx = base + sfx\n",
        "            offset = self.skip[ base ] + self.rank[ base ][ offset ]\n",
        "            index += 1\n",
        "        return sfx\n",
        "\n",
        "    def match( self , read ) :\n",
        "        top = 0\n",
        "        bot = self.length\n",
        "        i = len( read ) - 1\n",
        "        while i >= 0 and top < bot :\n",
        "            base = read[ i ]\n",
        "            top = self.skip[ base ] + self.rank[ base ][ top ]\n",
        "            bot = self.skip[ base ] + self.rank[ base ][ bot ]\n",
        "            i -= 1\n",
        "        return [ self.offsets[x] for x in range( top , bot) ]"
      ],
      "metadata": {
        "id": "3zbhCg0GnAgx"
      },
      "execution_count": null,
      "outputs": []
    },
    {
      "cell_type": "markdown",
      "source": [
        "# **Read Alignment**"
      ],
      "metadata": {
        "id": "Yo3hmCE-Rwo9"
      }
    },
    {
      "cell_type": "markdown",
      "source": [
        "## Exact Read Alignment using only LF-Mapping"
      ],
      "metadata": {
        "id": "jDrIHt_bg23B"
      }
    },
    {
      "cell_type": "code",
      "source": [
        "import matplotlib.pyplot as plt\n",
        "\n",
        "def exact_Read_alignment() :\n",
        "    matches = 0\n",
        "    mismatches = 0\n",
        "    bwt = Burrows_Wheelers()\n",
        "    with open( \"sample_reads\" , \"r\" ) as f1 , open( \"reads_indexes\" , \"r\" ) as f2 :\n",
        "        for read in f1 :\n",
        "            offset = int(f2.readline())\n",
        "            result = bwt.match( read.strip(\"\\n\") )\n",
        "            if offset in result :\n",
        "                matches += 1\n",
        "            else :\n",
        "                mismatches += 1\n",
        "    return ( matches , mismatches )\n",
        "\n",
        "values = exact_Read_alignment()\n",
        "mywedge = { \"edgecolor\" : \"0\" , \"linewidth\" : 2 , \"linestyle\" : \"solid\" , \"antialiased\" : True }\n",
        "mylabels = [ \"Matches = \" + str(values[0]) , \"Mismatches = \" + str(values[1]) ]\n",
        "mytext = {'fontsize': 20}\n",
        "plt.pie( values , labels = mylabels , colors = [ \"green\" , \"red\" ] , autopct=\"%1.1f%%\" , wedgeprops = mywedge , radius = 2 , textprops = mytext )\n",
        "plt.show()"
      ],
      "metadata": {
        "colab": {
          "base_uri": "https://localhost:8080/",
          "height": 381
        },
        "id": "fOj0KNVahCco",
        "outputId": "88cb7136-ebc8-4e8e-d03f-311a8e3bdc2a"
      },
      "execution_count": null,
      "outputs": [
        {
          "output_type": "display_data",
          "data": {
            "text/plain": [
              "<Figure size 432x288 with 1 Axes>"
            ],
            "image/png": "[encoded data removed]"
          },
          "metadata": {}
        }
      ]
    },
    {
      "cell_type": "markdown",
      "source": [
        "## Approximate Matching Using Pigeonhole Principle"
      ],
      "metadata": {
        "id": "29YaXTBovEdt"
      }
    },
    {
      "cell_type": "code",
      "source": [
        "def pigeonhole( read , bwt , n ) :\n",
        "    segment_length = round(len(read) / (n+1))\n",
        "    matches = []\n",
        "    approximate_match = True\n",
        "    for i in range( n+1 ) :\n",
        "        start = i * segment_length\n",
        "        end = min( (i+1) * segment_length , len( read ) )\n",
        "        hits = bwt.match( read[start:end] )\n",
        "        for h in hits :\n",
        "            if h < start or h-start+len(read) > bwt.length-1 :\n",
        "                continue\n",
        "            mismatches = 0\n",
        "            \"\"\"for j in range(start) :\n",
        "                if not read[j] == bwt.genome[h-start+j] :\n",
        "                    mismatches += 1\n",
        "                    if mismatches > n :\n",
        "                        break\"\"\"\n",
        "            for j in range(len(read)) :\n",
        "                if not read[j] == bwt.genome[h-start+j] :\n",
        "                    mismatches += 1\n",
        "                    if mismatches > n :\n",
        "                        break\n",
        "            if mismatches <= n :\n",
        "                matches.append( h - start )\n",
        "            if mismatches == 0 :\n",
        "                approximate_match = False\n",
        "    return matches , approximate_match\n",
        "\n",
        "def approximate_Read_Alignment( n ) :\n",
        "    exact_matches = 0\n",
        "    approximate_matches = 0\n",
        "    mismatches = 0\n",
        "    bwt = Burrows_Wheelers()\n",
        "    with open( \"sample_reads\" , \"r\" ) as f1 , open( \"reads_indexes\" , \"r\" ) as f2 :\n",
        "        for read in f1 :\n",
        "            offset = int(f2.readline())\n",
        "            result , approx = pigeonhole( read.strip(\"\\n\") , bwt , n )\n",
        "            if offset in result :\n",
        "                if approx == True :\n",
        "                    approximate_matches += 1\n",
        "                else :\n",
        "                    exact_matches += 1\n",
        "            else :\n",
        "                mismatches += 1\n",
        "    return ( exact_matches , approximate_matches , mismatches )"
      ],
      "metadata": {
        "id": "P15UmglEvD69"
      },
      "execution_count": null,
      "outputs": []
    },
    {
      "cell_type": "code",
      "source": [
        "import matplotlib.pyplot as plt\n",
        "\n",
        "#@title Execute Approximate Matching using Pigeonhole Principle { vertical-output: true, display-mode: \"form\" }\n",
        "allowable_mismatches = 1 #@param {type:\"slider\", min:0, max:10, step:1}\n",
        "\n",
        "values = approximate_Read_Alignment( allowable_mismatches )\n",
        "mywedge = { \"edgecolor\" : \"0\" , \"linewidth\" : 2 , \"linestyle\" : \"solid\" , \"antialiased\" : True }\n",
        "mylabels = [ \"Matches = \" + str(values[0]) , \" Approximate Matches = \" + str(values[1]) ,\"Mismatches = \" + str(values[2]) ]\n",
        "mytext = {'fontsize': 20}\n",
        "plt.pie( values , labels = mylabels , colors = [ \"green\" , \"yellow\" , \"red\" ] , autopct=\"%1.1f%%\" , wedgeprops = mywedge , radius = 2 , textprops = mytext )\n",
        "plt.show()\n"
      ],
      "metadata": {
        "colab": {
          "base_uri": "https://localhost:8080/",
          "height": 381
        },
        "id": "raxlPVf6hNl8",
        "outputId": "dffed5da-82ff-4d7f-ffaa-2974fd1fddea"
      },
      "execution_count": null,
      "outputs": [
        {
          "output_type": "display_data",
          "data": {
            "text/plain": [
              "<Figure size 432x288 with 1 Axes>"
            ],
            "image/png": "[encoded data removed]"
          },
          "metadata": {}
        }
      ]
    }
  ]
}