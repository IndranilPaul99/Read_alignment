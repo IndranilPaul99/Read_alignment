{
  "nbformat": 4,
  "nbformat_minor": 0,
  "metadata": {
    "colab": {
      "name": "Bioinformatics 2022 CSE-C",
      "provenance": [],
      "collapsed_sections": [
        "M2WQxAkLHT6E",
        "tDRiZ9SmZ8QQ",
        "P8_8eAPvkcuT",
        "Yo3hmCE-Rwo9",
        "Njc_l8k2IDXd",
        "suXfjjJXTxW6"
      ],
      "authorship_tag": "ABX9TyN7v+LmE5BkQ/jn1MS0Gspd",
      "include_colab_link": true
    },
    "kernelspec": {
      "name": "python3",
      "display_name": "Python 3"
    },
    "language_info": {
      "name": "python"
    }
  },
  "cells": [
    {
      "cell_type": "markdown",
      "metadata": {
        "id": "view-in-github",
        "colab_type": "text"
      },
      "source": [
        "<a href=\"https://colab.research.google.com/github/IndranilPaul99/Read_alignment/blob/main/Bioinformatics_2022_CSE_C.ipynb\" target=\"_parent\"><img src=\"https://colab.research.google.com/assets/colab-badge.svg\" alt=\"Open In Colab\"/></a>"
      ]
    },
    {
      "cell_type": "markdown",
      "source": [
        "# **Libraries Used**"
      ],
      "metadata": {
        "id": "M2WQxAkLHT6E"
      }
    },
    {
      "cell_type": "code",
      "source": [
        "import random\n",
        "import matplotlib.pyplot as plt\n",
        "import numpy as np\n",
        "import math"
      ],
      "metadata": {
        "id": "Q_I0cE4gHd9H"
      },
      "execution_count": null,
      "outputs": []
    },
    {
      "cell_type": "markdown",
      "source": [
        "# **Creating Test Data**"
      ],
      "metadata": {
        "id": "tDRiZ9SmZ8QQ"
      }
    },
    {
      "cell_type": "markdown",
      "source": [
        "## Function to generate a random Reference Genome"
      ],
      "metadata": {
        "id": "oLxn8rhfbJZn"
      }
    },
    {
      "cell_type": "code",
      "source": [
        "def generate_Random_Reference_Genome( length_of_genome , gc_content ) :\n",
        "    base_count = { \"A\" : 0 , \"C\" : 0 , \"G\" : 0 , \"T\" : 0 }\n",
        "    base = \"\"\n",
        "    g_or_c = gc_content / 2\n",
        "    a_or_t = ( 100 + gc_content ) / 2\n",
        "    genome = open(\"reference_genome\",\"w\")\n",
        "    for i in range( length_of_genome ) :\n",
        "        seed = random.uniform( 0 , 100 )\n",
        "        if seed <= gc_content :\n",
        "            if seed < g_or_c :\n",
        "                base = \"C\"\n",
        "            else :\n",
        "                base = \"G\"\n",
        "        else :\n",
        "            if seed < a_or_t :\n",
        "                base = \"A\"\n",
        "            else :\n",
        "                base = \"T\"\n",
        "        genome.write( base )\n",
        "        base_count[base] += 1\n",
        "    genome.close()\n",
        "    print(\" Generation Complete!! \\n\" , base_count )"
      ],
      "metadata": {
        "id": "-W6-d76KrjAT"
      },
      "execution_count": null,
      "outputs": []
    },
    {
      "cell_type": "code",
      "source": [
        "#@title Generate Reference Genome { vertical-output: true, display-mode: \"form\" }\n",
        "length_of_genome =  10000#@param {type:\"integer\"}\n",
        "gc_content = 72 #@param {type:\"slider\", min:1, max:100, step:1}\n",
        "\n",
        "generate_Random_Reference_Genome( length_of_genome , gc_content )\n"
      ],
      "metadata": {
        "id": "4eDL5Nbkbvv9",
        "colab": {
          "base_uri": "https://localhost:8080/"
        },
        "outputId": "132e1830-9a9a-4a39-8f34-3713a35f6d56"
      },
      "execution_count": null,
      "outputs": [
        {
          "output_type": "stream",
          "name": "stdout",
          "text": [
            " Generation Complete!! \n",
            " {'A': 1352, 'C': 3705, 'G': 3607, 'T': 1336}\n"
          ]
        }
      ]
    },
    {
      "cell_type": "markdown",
      "source": [
        "## Function to create a Sample Genome from the Reference Genome with dissimilarities"
      ],
      "metadata": {
        "id": "TvXHM7NvaQ7i"
      }
    },
    {
      "cell_type": "code",
      "source": [
        "def create_Sample_Genome( variation_percentage ) :\n",
        "    bases = {\n",
        "        \"A\" : [\"C\" , \"G\" , \"T\" ],\n",
        "        \"C\" : [\"A\" , \"G\" , \"T\" ],\n",
        "        \"G\" : [\"A\" , \"C\" , \"T\" ],\n",
        "        \"T\" : [\"A\" , \"C\" , \"T\" ]\n",
        "    }\n",
        "\n",
        "    reference_genome = open(\"reference_genome\",\"r\")\n",
        "    sample_genome = open(\"sample_genome\",\"w\")\n",
        "\n",
        "    count = 0\n",
        "    while True:\n",
        "        base = reference_genome.read(1)\n",
        "        if not base :\n",
        "            break\n",
        "        r = random.uniform(0,100)\n",
        "        if( r <= variation_percentage ) :\n",
        "            count += 1\n",
        "            sample_genome.write( random.choice(bases[base]) )\n",
        "        else :\n",
        "            sample_genome.write( base )\n",
        "    reference_genome.close()\n",
        "    sample_genome.close()\n",
        "    print( \" Number of dissimilarities = \" , count )"
      ],
      "metadata": {
        "id": "acbB8Rc6akaq"
      },
      "execution_count": null,
      "outputs": []
    },
    {
      "cell_type": "code",
      "source": [
        "#@title Generate Sample Genome { vertical-output: true, display-mode: \"form\" }\n",
        "variance_of_sample_genome = 0.2 #@param {type:\"slider\", min:0, max:3, step:0.01}\n",
        "\n",
        "create_Sample_Genome( variance_of_sample_genome )"
      ],
      "metadata": {
        "id": "PT_qP0Q-iMmd",
        "colab": {
          "base_uri": "https://localhost:8080/"
        },
        "outputId": "53522f3a-15ae-4c47-87bd-863dfa7af47d"
      },
      "execution_count": null,
      "outputs": [
        {
          "output_type": "stream",
          "name": "stdout",
          "text": [
            " Number of dissimilarities =  18\n"
          ]
        }
      ]
    },
    {
      "cell_type": "markdown",
      "source": [
        "## Function to create reads from Sample Genome\n",
        "Offset of each read is saved for later verification."
      ],
      "metadata": {
        "id": "ESm_K-BvzeXC"
      }
    },
    {
      "cell_type": "code",
      "source": [
        "def generate_Reads( min_read_length , max_read_length , iterations , edit_percent , edit_ratio ) :\n",
        "    sample_reads = open( \"sample_reads\" , \"w\" )\n",
        "    read_indexes = open( \"reads_indexes\" , \"w\" )\n",
        "    sample_genome = open( \"sample_genome\" , \"r\" )\n",
        "\n",
        "    count = 0\n",
        "    reads_with_edits = [ 0 for i in range( len(edit_ratio) ) ]\n",
        "    for _ in range(iterations) :\n",
        "        sample_genome.seek(0)\n",
        "        while True :\n",
        "            position_of_read = sample_genome.tell()\n",
        "            read_length = random.randint( min_read_length , max_read_length )\n",
        "            read = sample_genome.read( read_length )\n",
        "            if not read :\n",
        "                break\n",
        "            if random.uniform( 0 , 100 ) <= edit_percent :\n",
        "                seed = random.uniform( 0 , 100 )\n",
        "                for i in range( len( edit_ratio ) ) :\n",
        "                    if seed <= edit_ratio[i] :\n",
        "                        edits = i+1\n",
        "                        break\n",
        "                if edits < len( read ) :\n",
        "                    reads_with_edits[ edits-1 ] += 1\n",
        "                    edit_offsets = random.sample( range( len(read) ) , edits )\n",
        "                    for i in edit_offsets :\n",
        "                        read = read[:i] +  read[i+1:]\n",
        "            sample_reads.writelines( read + \"\\n\" )\n",
        "            read_indexes.write( str(position_of_read) + \"\\n\" )\n",
        "            count += 1\n",
        "    \n",
        "    sample_reads.close()\n",
        "    read_indexes.close()\n",
        "    sample_genome.close()\n",
        "    print( \" Number of reads produced = \" , count , \" \\n Reads with edits = \" , reads_with_edits )"
      ],
      "metadata": {
        "id": "Yx-a9z-hrFB4"
      },
      "execution_count": null,
      "outputs": []
    },
    {
      "cell_type": "code",
      "source": [
        "#@title Extract Reads from Sample Genome { vertical-output: true, display-mode: \"form\" }\n",
        "min_read_length =  20#@param {type:\"integer\"}\n",
        "max_read_length = 30 #@param {type:\"integer\"}\n",
        "iterations =  15#@param {type:\"number\"}\n",
        "edit_percent = 2 #@param {type:\"slider\", min:0, max:4, step:0.01}\n",
        "edits_per_read = 2 #@param {type:\"slider\", min:0, max:10, step:1}\n",
        "#@markdown Enter Ratio for the number of edits\n",
        "ratio = \"5 2\" #@param {type:\"string\"}\n",
        "\n",
        "edit_ratio = [ int(i) for i in ratio.split() ]\n",
        "sum = 0\n",
        "for i in edit_ratio :\n",
        "    sum += i\n",
        "prev = 0\n",
        "for i in range( len(edit_ratio) ) :\n",
        "    edit_ratio[i] = (edit_ratio[i]/sum)*100 + prev\n",
        "    prev = edit_ratio[i]\n",
        "if min_read_length < max_read_length and min_read_length < length_of_genome and len(edit_ratio) is edits_per_read :\n",
        "    generate_Reads( min_read_length , max_read_length , iterations , edit_percent , edit_ratio )\n",
        "else :\n",
        "    print( \" Invalid values !!! \" )\n"
      ],
      "metadata": {
        "id": "tqgUweGC5_PE",
        "colab": {
          "base_uri": "https://localhost:8080/"
        },
        "outputId": "4ba46f73-7b17-4d6b-cbf1-b11200234808"
      },
      "execution_count": null,
      "outputs": [
        {
          "output_type": "stream",
          "name": "stdout",
          "text": [
            " Number of reads produced =  6009  \n",
            " Reads with edits =  [84, 33]\n"
          ]
        }
      ]
    },
    {
      "cell_type": "markdown",
      "source": [
        "# **Burrows-Wheeler Transform and FM Index**"
      ],
      "metadata": {
        "id": "P8_8eAPvkcuT"
      }
    },
    {
      "cell_type": "markdown",
      "source": [
        "## Making the Burrows-Wheeler Transform\n",
        "Offset are also sorted in the order of the rotations i.e. the suffix array is created. This array records the position of each base of the BWT in the reference genome."
      ],
      "metadata": {
        "id": "bg4HmurIlNb8"
      }
    },
    {
      "cell_type": "code",
      "source": [
        "def burrows_wheeler() :\n",
        "    genome = open( \"reference_genome\" , \"r\" ).read() + \"$\"\n",
        "    offsets = [ i for i in range( len( genome ) ) ]\n",
        "    offsets.sort( key = lambda i : genome[i:] + genome[:i] )\n",
        "\n",
        "    with open( \"f\" , \"w\" ) as file1 , open( \"l\" , \"w\" ) as file2 , open( \"offsets\" , \"w\" ) as file3 :\n",
        "        for i in offsets :\n",
        "            rotation = genome[i:] + genome[:i]\n",
        "            file1.write( rotation[0] )\n",
        "            file2.write( rotation[-1] )\n",
        "            file3.write( str(i) + \"\\n\" )\n",
        "\n",
        "    print( \"BWT Produced !!!\" )\n",
        "\n",
        "burrows_wheeler()"
      ],
      "metadata": {
        "id": "N12082LXloYI",
        "colab": {
          "base_uri": "https://localhost:8080/"
        },
        "outputId": "e8373208-ad23-4c5e-9ad6-c74de117abcd"
      },
      "execution_count": null,
      "outputs": [
        {
          "output_type": "stream",
          "name": "stdout",
          "text": [
            "BWT Produced !!!\n"
          ]
        }
      ]
    },
    {
      "cell_type": "markdown",
      "source": [
        "## Making the Rank , Skip and Select Tables"
      ],
      "metadata": {
        "id": "5Hyt7txpa0Id"
      }
    },
    {
      "cell_type": "code",
      "source": [
        "def generate_Rank_Select_Skip() :\n",
        "    bwt = open( \"l\" , \"r\" ).read()\n",
        "    rank = { \"$\" : [] , \"A\" : [] , \"C\" : [] , \"G\" : [] , \"T\" : [] }\n",
        "    temp_ranks = { \"$\" : -1 , \"A\" : -1 , \"C\" : -1 , \"G\" : -1 , \"T\" : -1 }\n",
        "    skip = { \"$\" : 0 , \"A\" : 0 , \"C\" : 0 , \"G\" : 0 , \"T\" : 0 }\n",
        "    select = { \"$\" : [] , \"A\" : [] , \"C\" : [] , \"G\" : [] , \"T\" : [] }\n",
        "    \n",
        "    for base in bwt :\n",
        "        temp_ranks[base] += 1\n",
        "        for ch in [ \"$\" , \"A\" , \"C\" , \"G\" , \"T\" ] :\n",
        "            rank[ch].append( temp_ranks[ch] )\n",
        "    prev = \"$\"\n",
        "    for curr in [ \"A\" , \"C\" , \"G\" , \"T\" ] :\n",
        "        skip[curr] = temp_ranks[prev] + skip[prev] + 1\n",
        "        prev = curr\n",
        "    for i in range( len( bwt ) ) :\n",
        "        select[ bwt[i] ].append( i )\n",
        "    with open( \"rank\" , \"w\" ) as file1 , open( \"skip\" , \"w\" ) as file2 , open( \"select\" , \"w\" ) as file3 :\n",
        "        for ch in [ \"$\" , \"A\" , \"C\" , \"G\" , \"T\" ] :\n",
        "            for num in rank[ch] :\n",
        "                file1.write( str( num ) + \" \" )\n",
        "            file1.write( \"\\n\" )\n",
        "            file2.write( str( skip[ch] ) + \"\\n\" )\n",
        "            for num in select[ch] :\n",
        "                file3.write( str( num ) + \" \" )\n",
        "            file3.write( \"\\n\" )\n",
        "    print( \"rank , select , skip generated!!!\" )\n",
        "\n",
        "generate_Rank_Select_Skip()"
      ],
      "metadata": {
        "id": "lyCKjVjgbIzH",
        "colab": {
          "base_uri": "https://localhost:8080/"
        },
        "outputId": "e114d106-60bc-442a-f31f-7fd35c6bf493"
      },
      "execution_count": null,
      "outputs": [
        {
          "output_type": "stream",
          "name": "stdout",
          "text": [
            "rank , select , skip generated!!!\n"
          ]
        }
      ]
    },
    {
      "cell_type": "markdown",
      "source": [
        "## Reversing The Burrows-Wheller Transform"
      ],
      "metadata": {
        "id": "ZU_bj_7gbPuZ"
      }
    },
    {
      "cell_type": "code",
      "source": [
        "def reverse_BWT() :\n",
        "    rank = {}\n",
        "    skip = {}\n",
        "    with open( \"rank\" , \"r\" ) as f1 , open( \"skip\" , \"r\" ) as f2 :\n",
        "        for base in [ \"$\" , \"A\" , \"C\" , \"G\" , \"T\" ] :\n",
        "            rank.update( { base : [ int(i) for i in f1.readline().strip( \" \\n\" ).split( \" \" ) ] } )\n",
        "            skip.update( { base : int( f2.readline() ) } )\n",
        "    bwt = open( \"l\" , \"r\" ).read()\n",
        "    \n",
        "    reversed_bwt = \"\"\n",
        "    offset = 0\n",
        "    while True :\n",
        "        base = bwt[ offset ]\n",
        "        if base is \"$\" :\n",
        "            break\n",
        "        reversed_bwt = base + reversed_bwt\n",
        "        offset = skip[ base ] + rank[ base ][ offset ]\n",
        "    \n",
        "    reference_genome = open( \"reference_genome\" , \"r\" ).read()\n",
        "    if reversed_bwt == reference_genome :\n",
        "        print( \"BWT reversal successful !!!\" )\n",
        "    else :\n",
        "        print( \"BWT reversal unsuccessful.\" )\n",
        "\n",
        "reverse_BWT()"
      ],
      "metadata": {
        "id": "Mf05RvLAbY9J",
        "colab": {
          "base_uri": "https://localhost:8080/"
        },
        "outputId": "1abc8855-f267-4939-e849-1b24c5a94ac5"
      },
      "execution_count": null,
      "outputs": [
        {
          "output_type": "stream",
          "name": "stdout",
          "text": [
            "BWT reversal successful !!!\n"
          ]
        }
      ]
    },
    {
      "cell_type": "markdown",
      "source": [
        "## BWT Class"
      ],
      "metadata": {
        "id": "E67gkBZ1nBaQ"
      }
    },
    {
      "cell_type": "code",
      "source": [
        "class Burrows_Wheelers :\n",
        "\n",
        "    offsets = None\n",
        "\n",
        "    def __init__( self , file_name = \"reference_genome\" ) :\n",
        "        self.genome = open( file_name , \"r\" ).read() + \"$\"\n",
        "        self.length = len( self.genome )\n",
        "        self.f , self.l = self.create_BWT()\n",
        "        self.rank , self.skip , self.select = self.generate_Rank_Select_Skip()\n",
        "\n",
        "    def __iter__( self ) :\n",
        "        self.iterate_base = 0\n",
        "        return self\n",
        "\n",
        "    def __next__( self ) :\n",
        "        if self.iterate_base < self.length :\n",
        "            current_base = self.iterate_base\n",
        "            self.iterate_base += 1\n",
        "            return self.l[ current_base ]\n",
        "        else :\n",
        "            raise StopIteration\n",
        "    \n",
        "    def __getitem__(self, key) :\n",
        "        return self.l[key]\n",
        "\n",
        "    def create_BWT( self ) :\n",
        "        f = \"\"\n",
        "        l = \"\"\n",
        "        self.offsets = [ i for i in range( self.length ) ]\n",
        "        self.offsets.sort( key = lambda i : self.genome[i:] + self.genome[:i] )\n",
        "        for i in self.offsets :\n",
        "            rotation = self.genome[i:] + self.genome[:i]\n",
        "            f += rotation[0]\n",
        "            l += rotation[-1:]\n",
        "        return f , l\n",
        "\n",
        "    def generate_Rank_Select_Skip( self ) :\n",
        "        rank = { \"$\" : [] , \"A\" : [] , \"C\" : [] , \"G\" : [] , \"T\" : [] }\n",
        "        skip = { \"$\" : 0 , \"A\" : 0 , \"C\" : 0 , \"G\" : 0 , \"T\" : 0 }\n",
        "        select = { \"$\" : [] , \"A\" : [] , \"C\" : [] , \"G\" : [] , \"T\" : [] }\n",
        "        \n",
        "        for ch in [ \"$\" , \"A\" , \"C\" , \"G\" , \"T\" ] :\n",
        "            temp = 0\n",
        "            for base in self.l :\n",
        "                rank[ch].append( temp )\n",
        "                if( base is ch ) :\n",
        "                    temp += 1\n",
        "            rank[ch].append( temp )\n",
        "        prev = \"$\"\n",
        "        for curr in [ \"A\" , \"C\" , \"G\" , \"T\" ] :\n",
        "            skip[curr] = rank[prev][self.length] + skip[prev]\n",
        "            prev = curr\n",
        "        for i in range( self.length ) :\n",
        "            select[ self.l[i] ].append( i )\n",
        "        return rank , skip , select\n",
        "\n",
        "    def suffix( self , index = 0 ) :\n",
        "        if ( index < 0 or index >= self.length ) :\n",
        "            return None\n",
        "        index +=1\n",
        "        sfx = \"\"\n",
        "        offset = 0\n",
        "        while index < self.length :\n",
        "            base = self.l[ offset ]\n",
        "            sfx = base + sfx\n",
        "            offset = self.skip[ base ] + self.rank[ base ][ offset ]\n",
        "            index += 1\n",
        "        return sfx\n",
        "\n",
        "    def match( self , read ) :\n",
        "        top = 0\n",
        "        bot = self.length\n",
        "        i = len( read ) - 1\n",
        "        while i >= 0 and top < bot :\n",
        "            base = read[ i ]\n",
        "            top = self.skip[ base ] + self.rank[ base ][ top ]\n",
        "            bot = self.skip[ base ] + self.rank[ base ][ bot ]\n",
        "            i -= 1\n",
        "        return [ self.offsets[x] for x in range( top , bot) ]"
      ],
      "metadata": {
        "id": "3zbhCg0GnAgx"
      },
      "execution_count": null,
      "outputs": []
    },
    {
      "cell_type": "markdown",
      "source": [
        "# **Read Alignment using Classical FM Index**"
      ],
      "metadata": {
        "id": "Yo3hmCE-Rwo9"
      }
    },
    {
      "cell_type": "markdown",
      "source": [
        "## Exact Read Alignment using only LF-Mapping"
      ],
      "metadata": {
        "id": "jDrIHt_bg23B"
      }
    },
    {
      "cell_type": "code",
      "source": [
        "def exact_Read_alignment( bwt ) :\n",
        "    matches = 0\n",
        "    mismatches = 0\n",
        "    with open( \"sample_reads\" , \"r\" ) as f1 , open( \"reads_indexes\" , \"r\" ) as f2 :\n",
        "        for read in f1 :\n",
        "            offset = int(f2.readline())\n",
        "            result = bwt.match( read.strip(\"\\n\") )\n",
        "            if offset in result :\n",
        "                matches += 1\n",
        "            else :\n",
        "                mismatches += 1\n",
        "    return ( matches , mismatches )\n",
        "\n",
        "bwt = Burrows_Wheelers()\n",
        "values = exact_Read_alignment( bwt )\n",
        "mywedge = { \"edgecolor\" : \"0\" , \"linewidth\" : 2 , \"linestyle\" : \"solid\" , \"antialiased\" : True }\n",
        "mylabels = [ \"Matches = \" + str(values[0]) , \"Mismatches = \" + str(values[1]) ]\n",
        "mytext = {'fontsize': 20}\n",
        "plt.pie( values , labels = mylabels , colors = [ \"green\" , \"red\" ] , autopct=\"%1.1f%%\" , wedgeprops = mywedge , radius = 2 , textprops = mytext )\n",
        "plt.show()"
      ],
      "metadata": {
        "colab": {
          "base_uri": "https://localhost:8080/",
          "height": 381
        },
        "id": "fOj0KNVahCco",
        "outputId": "6c483e24-b98b-41e5-bea6-77d8a5d5ca73"
      },
      "execution_count": null,
      "outputs": [
        {
          "output_type": "display_data",
          "data": {
            "text/plain": [
              "<Figure size 432x288 with 1 Axes>"
            ],
            "image/png": "[encoded data removed]"
          },
          "metadata": {}
        }
      ]
    },
    {
      "cell_type": "markdown",
      "source": [
        "## Approximate Matching Using Pigeonhole Principle"
      ],
      "metadata": {
        "id": "29YaXTBovEdt"
      }
    },
    {
      "cell_type": "code",
      "source": [
        "def linear_verification( read , bwt , offset , allowable_mismatches ) :\n",
        "    mismatches = 0\n",
        "    for i in range(len(read)) :\n",
        "        if not read[i] == bwt.genome[offset+i] :\n",
        "            mismatches += 1\n",
        "            if mismatches > allowable_mismatches :\n",
        "                break\n",
        "    return mismatches\n",
        "\n",
        "def pigeonhole( read , bwt , allowable_mismatches ) :\n",
        "    slices = allowable_mismatches\n",
        "    segment_length = round(len(read) / (slices+1))\n",
        "    matches = []\n",
        "    approximate_match = True\n",
        "    for i in range( slices+1 ) :\n",
        "        start = i * segment_length\n",
        "        end = min( (i+1) * segment_length , len( read ) )\n",
        "        hits = bwt.match( read[start:end] )\n",
        "        for h in hits :\n",
        "            if h < start or h-start+len(read) > bwt.length-1 :\n",
        "                continue\n",
        "            mismatches = linear_verification( read , bwt , h-start , allowable_mismatches )\n",
        "            if mismatches <= allowable_mismatches :\n",
        "                matches.append( h - start )\n",
        "            if mismatches == 0 :\n",
        "                approximate_match = False\n",
        "    return matches , approximate_match\n",
        "\n",
        "def approximate_Read_Alignment( bwt , allowable_mismatches ) :\n",
        "    exact_matches = 0\n",
        "    approximate_matches = 0\n",
        "    mismatches = 0\n",
        "    with open( \"sample_reads\" , \"r\" ) as f1 , open( \"reads_indexes\" , \"r\" ) as f2 :\n",
        "        for read in f1 :\n",
        "            offset = int(f2.readline())\n",
        "            result , approx = pigeonhole( read.strip(\"\\n\") , bwt , allowable_mismatches )\n",
        "            if offset in result :\n",
        "                if approx == True :\n",
        "                    approximate_matches += 1\n",
        "                else :\n",
        "                    exact_matches += 1\n",
        "            else :\n",
        "                mismatches += 1\n",
        "    return ( exact_matches , approximate_matches , mismatches )"
      ],
      "metadata": {
        "id": "P15UmglEvD69"
      },
      "execution_count": null,
      "outputs": []
    },
    {
      "cell_type": "code",
      "source": [
        "#@title Execute Approximate Matching using Pigeonhole Principle { vertical-output: true, display-mode: \"form\" }\n",
        "allowable_mismatches = 2 #@param {type:\"slider\", min:0, max:10, step:1}\n",
        "\n",
        "\n",
        "bwt = Burrows_Wheelers()\n",
        "values = approximate_Read_Alignment( bwt , allowable_mismatches )\n",
        "mywedge = { \"edgecolor\" : \"0\" , \"linewidth\" : 2 , \"linestyle\" : \"solid\" , \"antialiased\" : True }\n",
        "mylabels = [ \"Matches = \" + str(values[0]) , \" Approximate Matches = \" + str(values[1]) ,\"Mismatches = \" + str(values[2]) ]\n",
        "mytext = {'fontsize': 20}\n",
        "plt.pie( values , labels = mylabels , colors = [ \"green\" , \"yellow\" , \"red\" ] , autopct=\"%1.1f%%\" , wedgeprops = mywedge , radius = 2 , textprops = mytext )\n",
        "plt.show()\n"
      ],
      "metadata": {
        "colab": {
          "base_uri": "https://localhost:8080/",
          "height": 381
        },
        "id": "raxlPVf6hNl8",
        "outputId": "8bff42cb-c5a1-400c-a345-9936fcd9d687"
      },
      "execution_count": null,
      "outputs": [
        {
          "output_type": "display_data",
          "data": {
            "text/plain": [
              "<Figure size 432x288 with 1 Axes>"
            ],
            "image/png": "[encoded data removed]"
          },
          "metadata": {}
        }
      ]
    },
    {
      "cell_type": "markdown",
      "source": [
        "## Final Read Alignment using Dynamic Programming\n",
        "We use Pigeonhole Principle to estimate the range where the read may exist and use Dynamic Programming as the verification step."
      ],
      "metadata": {
        "id": "P-_4sKp81U16"
      }
    },
    {
      "cell_type": "code",
      "source": [
        "def dynamic_verification( p , t , allowable_mismatches ) :\n",
        "    dp = []\n",
        "    alignments = []\n",
        "    p = p[::-1]\n",
        "    t = t[::-1]\n",
        "    for i in range( len(p)+1 ) :\n",
        "        dp.append( [0] * (len(t)+1) )\n",
        "    for i in range( len(p)+1 ) :\n",
        "        dp[i][0] = i\n",
        "    for i in range( 1 , len(p)+1 ) :\n",
        "        for j in range( 1 , len(t)+1 ) :\n",
        "            hor_dist = dp[i][j-1] + 1\n",
        "            ver_dist = dp[i-1][j] + 1\n",
        "            dia_dist = dp[i-1][j-1]\n",
        "            if p[i-1] != t[j-1] :\n",
        "                dia_dist += 1\n",
        "            dp[i][j] = min( hor_dist , ver_dist , dia_dist )\n",
        "            \n",
        "    for i in range( len(t)+1 ) :\n",
        "        if dp[len(p)][i] <= allowable_mismatches :\n",
        "            alignments.append( len(t) - i )\n",
        "    return alignments , min( dp[len(p)] )\n",
        "\n",
        "def pigeonhole_dp( read , bwt , allowable_mismatches ) :\n",
        "    slices = allowable_mismatches\n",
        "    segment_length = round(len(read) / (slices+1))\n",
        "    matches = []\n",
        "    approximate_match = True\n",
        "    previous_hits = []\n",
        "    for i in range( slices+1 ) :\n",
        "        start = i * segment_length\n",
        "        end = min( (i+1) * segment_length , len( read ) )\n",
        "        hits = bwt.match( read[start:end] )\n",
        "        for h in hits :\n",
        "            if h < start or h-start+len(read) > bwt.length-1 or (h-start) in previous_hits :\n",
        "                continue\n",
        "            previous_hits.append( h-start )\n",
        "            text_start , text_end = h-start-allowable_mismatches , h-start+len(read)+allowable_mismatches\n",
        "            if text_start < 0 :\n",
        "                text_start = 0\n",
        "            if text_end > bwt.length-1 :\n",
        "                text_end = bwt.length-1\n",
        "            alignments , mismatches = dynamic_verification( read , bwt.genome[ text_start : text_end+1 ] , allowable_mismatches )\n",
        "            if len(alignments) :\n",
        "                for i in alignments :\n",
        "                    matches.append( text_start + i )\n",
        "                if not mismatches :\n",
        "                    approximate_match = False\n",
        "    return matches , approximate_match\n",
        "\n",
        "def dynamic_Read_Alignment( bwt , allowable_mismatches ) :\n",
        "    exact_matches = 0\n",
        "    approximate_matches = 0\n",
        "    mismatches = 0\n",
        "    count = 0\n",
        "    with open( \"sample_reads\" , \"r\" ) as f1 , open( \"reads_indexes\" , \"r\" ) as f2  :\n",
        "        for read in f1 :\n",
        "            offset = int(f2.readline())\n",
        "            result , approx = pigeonhole_dp( read.strip(\"\\n\") , bwt , allowable_mismatches )\n",
        "            if offset in result :\n",
        "                if approx == True :\n",
        "                    approximate_matches += 1\n",
        "                else :\n",
        "                    exact_matches += 1\n",
        "            else :\n",
        "                mismatches += 1\n",
        "            count += 1\n",
        "    return ( exact_matches , approximate_matches , mismatches )"
      ],
      "metadata": {
        "id": "_858qOZH6cpM"
      },
      "execution_count": null,
      "outputs": []
    },
    {
      "cell_type": "code",
      "source": [
        "#@title Execute Final read alignment using Pigeon Hole Principle and Dynamic Programming { vertical-output: true, display-mode: \"form\" }\n",
        "\n",
        "allowable_mismatches = 2 #@param {type:\"slider\", min:0, max:10, step:1}\n",
        "\n",
        "bwt = Burrows_Wheelers()\n",
        "values = dynamic_Read_Alignment( bwt , allowable_mismatches )\n",
        "mywedge = { \"edgecolor\" : \"0\" , \"linewidth\" : 2 , \"linestyle\" : \"solid\" , \"antialiased\" : True }\n",
        "mylabels = [ \"Matches = \" + str(values[0]) , \" Approximate Matches = \" + str(values[1]) ,\"Mismatches = \" + str(values[2]) ]\n",
        "mytext = {'fontsize': 20}\n",
        "plt.pie( values , labels = mylabels , colors = [ \"green\" , \"yellow\" , \"red\" ] , autopct=\"%1.1f%%\" , wedgeprops = mywedge , radius = 2 , textprops = mytext )\n",
        "plt.show()\n"
      ],
      "metadata": {
        "colab": {
          "base_uri": "https://localhost:8080/",
          "height": 381
        },
        "id": "kET9nXhy-l9_",
        "outputId": "5c10b425-4b03-41f8-9a32-3e7d21b027b3"
      },
      "execution_count": null,
      "outputs": [
        {
          "output_type": "display_data",
          "data": {
            "text/plain": [
              "<Figure size 432x288 with 1 Axes>"
            ],
            "image/png": "[encoded data removed]"
          },
          "metadata": {}
        }
      ]
    },
    {
      "cell_type": "markdown",
      "source": [
        "# **Implementation of FM Index using Wavelet Tree and Succinct Structures**"
      ],
      "metadata": {
        "id": "Njc_l8k2IDXd"
      }
    },
    {
      "cell_type": "markdown",
      "source": [
        "## Tree Node"
      ],
      "metadata": {
        "id": "rlEgUh6F5PVL"
      }
    },
    {
      "cell_type": "code",
      "source": [
        "class Partition :\n",
        "    \n",
        "    def __init__( self , char_set , bitvector ) :\n",
        "        self.child = [ None , None ]\n",
        "        self.char_set = char_set\n",
        "        self.bitvector = bitvector\n",
        "        self.rank = np.zeros( len(bitvector) + 1 , dtype = int )\n",
        "        self.n = len( bitvector )\n",
        "        if len(char_set) > 1 :\n",
        "            self.chunk_size = math.ceil( math.log2( self.n )**2 )\n",
        "            self.chunk_nos = math.ceil( self.n / math.log2( self.n )**2 )\n",
        "            self.subchunk_size = math.ceil( 0.5*math.log2( self.n ) )\n",
        "            self.subchunk_nos = math.ceil( self.chunk_size/self.subchunk_size )\n",
        "            self.primary = np.zeros( self.chunk_nos , dtype = int )\n",
        "            self.secondary = np.zeros( ( self.chunk_nos , self.subchunk_nos ) , dtype = int )\n",
        "            self.lookup = np.zeros( 2**(self.subchunk_size+1) , dtype = int )\n",
        "            self.generate_Rank()\n",
        "    \n",
        "    def generate_Rank( self ) :\n",
        "        r = np.zeros( self.n+1 , dtype = int )\n",
        "        temp = 0\n",
        "        i = 1\n",
        "        for bit in self.bitvector :\n",
        "            if bit == \"1\" :\n",
        "                temp += 1\n",
        "            r[i] = temp\n",
        "            i += 1\n",
        "\n",
        "        index = 0\n",
        "        for i in range( 0 , self.n , self.chunk_size ) :\n",
        "            self.primary[index] = r[i]\n",
        "            index += 1\n",
        "\n",
        "        row = 0\n",
        "        col = 0\n",
        "        primary_index = 0\n",
        "        for i in range( 0 , self.n , self.chunk_size ) :\n",
        "            for j in range( 0 , self.chunk_size , self.subchunk_size ) :\n",
        "                if i+j >= self.n :\n",
        "                    break\n",
        "                self.secondary[row][col] = r[i+j] - self.primary[primary_index]\n",
        "                col += 1\n",
        "            col = 0\n",
        "            row += 1\n",
        "            primary_index += 1\n",
        "            \n",
        "        for i in range( 2**(self.subchunk_size +1) ) :\n",
        "            k = i\n",
        "            popcnt = 0\n",
        "            while k :\n",
        "                popcnt += k&1 \n",
        "                k >>= 1\n",
        "            if i&1 :\n",
        "                popcnt -= 1\n",
        "            self.lookup[i] = popcnt\n",
        "        \n",
        "        r = None\n",
        "        del r\n",
        "\n",
        "    def get_Rank( self , bit , offset ) :\n",
        "        x = offset//self.chunk_size\n",
        "        y = offset%self.chunk_size//self.subchunk_size\n",
        "        a = self.primary[x] + self.secondary[x][y] + self.lookup[ int( self.bitvector[x*self.chunk_size+y*self.subchunk_size:offset+1] , 2 ) ]\n",
        "        if offset == self.n and self.bitvector[self.n-1] == \"1\" :\n",
        "            a += 1\n",
        "        if bit == \"1\" :\n",
        "            return a\n",
        "        return offset - a"
      ],
      "metadata": {
        "id": "qdamKz0o5b-9"
      },
      "execution_count": null,
      "outputs": []
    },
    {
      "cell_type": "markdown",
      "source": [
        "## Container Class"
      ],
      "metadata": {
        "id": "zd4lyWMpUAAw"
      }
    },
    {
      "cell_type": "code",
      "source": [
        "class Wavelet_Tree_BWT :\n",
        "\n",
        "    def __init__( self , file_name = \"reference_genome\" ) :\n",
        "        self.offsets = None\n",
        "        self.genome = open( file_name , \"r\" ).read() + \"$\"\n",
        "        self.length = len( self.genome )\n",
        "        self.l = self.create_BWT()\n",
        "        self.skip = self.generate_Skip()\n",
        "        self.char_set = [ \"$\" , \"A\" , \"C\" , \"G\" , \"T\" ]\n",
        "        self.path = { \"$\" : \"\" , \"A\" : \"\" , \"C\" : \"\" , \"G\" : \"\" , \"T\" : \"\" }\n",
        "        self.root = self.make_Tree( self.char_set , self.l , \"\" )\n",
        "\n",
        "    def create_BWT( self ) :\n",
        "        l = \"\"\n",
        "        self.offsets = [ i for i in range( self.length ) ]\n",
        "        self.offsets.sort( key = lambda i : self.genome[i:] + self.genome[:i] )\n",
        "        for i in self.offsets :\n",
        "            l += self.genome[i-1]\n",
        "        return l\n",
        "\n",
        "    def generate_Skip( self ) :\n",
        "        skip = { \"$\" : 0 , \"A\" : 0 , \"C\" : 0 , \"G\" : 0 , \"T\" : 0 }\n",
        "        prev = \"$\"\n",
        "        for curr in [ \"A\" , \"C\" , \"G\" , \"T\" ] :\n",
        "            skip[curr] = self.l.count(prev) + skip[prev]\n",
        "            prev = curr\n",
        "        return skip\n",
        "\n",
        "    def make_Tree( self , char_set , text , path ) :\n",
        "        if not len( char_set ) == 1 :\n",
        "            left_char_set = char_set[ :len(char_set)//2 ]\n",
        "            right_char_set = char_set[ len(char_set)//2: ]\n",
        "            bitvector = \"\"\n",
        "            left_text = \"\"\n",
        "            right_text = \"\"\n",
        "            for base in text :\n",
        "                if base in left_char_set :\n",
        "                    bitvector += \"0\"\n",
        "                    left_text += base\n",
        "                else :\n",
        "                    bitvector += \"1\"\n",
        "                    right_text += base\n",
        "            node = Partition( char_set , bitvector )\n",
        "            node.child[0] = self.make_Tree( left_char_set , left_text , path + \"0\" )\n",
        "            node.child[1] = self.make_Tree( right_char_set , right_text , path + \"1\" )\n",
        "            return node\n",
        "        else :\n",
        "            self.path[ char_set[0] ] = path\n",
        "            return Partition( char_set , \"\" )\n",
        "\n",
        "    def find_Base( self , offset ) :\n",
        "        node = self.root\n",
        "        while all( node.child ) :\n",
        "            bit = node.bitvector[offset]\n",
        "            offset = node.get_Rank( bit , offset )\n",
        "            node = node.child[ int(bit) ]\n",
        "        return node.char_set[0]\n",
        "        \n",
        "    def find_Rank( self , base , i ) :\n",
        "        node = self.root\n",
        "        path = self.path[ base ]\n",
        "        k = 0\n",
        "        while all( node.child ) :\n",
        "            i = node.get_Rank( path[k] , i )\n",
        "            node = node.child[ int(path[k]) ]\n",
        "            k += 1\n",
        "        return i\n",
        "\n",
        "    def suffix( self , index = 0 ) :\n",
        "        if ( index < 0 or index >= self.length ) :\n",
        "            return None\n",
        "        index +=1\n",
        "        sfx = \"\"\n",
        "        offset = 0\n",
        "        while index < self.length :\n",
        "            base = self.find_Base( offset )\n",
        "            sfx = base + sfx\n",
        "            offset = self.skip[ base ] + self.find_Rank( base , offset )\n",
        "            index += 1\n",
        "        return sfx\n",
        "\n",
        "    def match( self , read ) :\n",
        "        top = 0\n",
        "        bot = self.length\n",
        "        i = len( read ) - 1\n",
        "        while i >= 0 and top < bot :\n",
        "            base = read[ i ]\n",
        "            top = self.skip[ base ] + self.find_Rank( base , top )\n",
        "            bot = self.skip[ base ] + self.find_Rank( base , bot )\n",
        "            i -= 1\n",
        "        return [ self.offsets[x] for x in range( top , bot) ]"
      ],
      "metadata": {
        "id": "Wl2XDMMqUGxO"
      },
      "execution_count": null,
      "outputs": []
    },
    {
      "cell_type": "markdown",
      "source": [
        "# **Read Alignment using Wavelet Based FM index**"
      ],
      "metadata": {
        "id": "suXfjjJXTxW6"
      }
    },
    {
      "cell_type": "markdown",
      "source": [
        "## Exact Read Alignment using only LF-Mapping"
      ],
      "metadata": {
        "id": "_3ZjiD9Z1TZy"
      }
    },
    {
      "cell_type": "code",
      "source": [
        "print(math.log2(2))\n",
        "\n",
        "bwt = Wavelet_Tree_BWT()\n",
        "values = exact_Read_alignment( bwt )\n",
        "mywedge = { \"edgecolor\" : \"0\" , \"linewidth\" : 2 , \"linestyle\" : \"solid\" , \"antialiased\" : True }\n",
        "mylabels = [ \"Matches = \" + str(values[0]) , \"Mismatches = \" + str(values[1]) ]\n",
        "mytext = {'fontsize': 20}\n",
        "plt.pie( values , labels = mylabels , colors = [ \"green\" , \"red\" ] , autopct=\"%1.1f%%\" , wedgeprops = mywedge , radius = 2 , textprops = mytext )\n",
        "plt.show()"
      ],
      "metadata": {
        "colab": {
          "base_uri": "https://localhost:8080/",
          "height": 399
        },
        "outputId": "a8921d31-07fb-4b34-b466-257b752b3518",
        "id": "yhaF76y01TZ8"
      },
      "execution_count": null,
      "outputs": [
        {
          "output_type": "stream",
          "name": "stdout",
          "text": [
            "1.0\n"
          ]
        },
        {
          "output_type": "display_data",
          "data": {
            "text/plain": [
              "<Figure size 432x288 with 1 Axes>"
            ],
            "image/png": "[encoded data removed]"
          },
          "metadata": {}
        }
      ]
    },
    {
      "cell_type": "markdown",
      "source": [
        "## Approximate Matching Using Pigeonhole Principle"
      ],
      "metadata": {
        "id": "P4foX0T91TZ9"
      }
    },
    {
      "cell_type": "code",
      "source": [
        "#@title Execute Approximate Matching using Pigeonhole Principle { vertical-output: true, display-mode: \"form\" }\n",
        "allowable_mismatches = 2 #@param {type:\"slider\", min:0, max:10, step:1}\n",
        "\n",
        "\n",
        "bwt = Wavelet_Tree_BWT()\n",
        "values = approximate_Read_Alignment( bwt , allowable_mismatches )\n",
        "mywedge = { \"edgecolor\" : \"0\" , \"linewidth\" : 2 , \"linestyle\" : \"solid\" , \"antialiased\" : True }\n",
        "mylabels = [ \"Matches = \" + str(values[0]) , \" Approximate Matches = \" + str(values[1]) ,\"Mismatches = \" + str(values[2]) ]\n",
        "mytext = {'fontsize': 20}\n",
        "plt.pie( values , labels = mylabels , colors = [ \"green\" , \"yellow\" , \"red\" ] , autopct=\"%1.1f%%\" , wedgeprops = mywedge , radius = 2 , textprops = mytext )\n",
        "plt.show()\n"
      ],
      "metadata": {
        "colab": {
          "base_uri": "https://localhost:8080/",
          "height": 381
        },
        "outputId": "7c89a7e0-24c0-451f-cd5a-4a5461aa39a5",
        "id": "R7Z1pagL1TZ-"
      },
      "execution_count": null,
      "outputs": [
        {
          "output_type": "display_data",
          "data": {
            "text/plain": [
              "<Figure size 432x288 with 1 Axes>"
            ],
            "image/png": "[encoded data removed]"
          },
          "metadata": {}
        }
      ]
    },
    {
      "cell_type": "markdown",
      "source": [
        "## Final Read Alignment using Dynamic Programming\n",
        "We use Pigeonhole Principle to estimate the range where the read may exist and use Dynamic Programming as the verification step."
      ],
      "metadata": {
        "id": "Uj0mWHO21TZ-"
      }
    },
    {
      "cell_type": "code",
      "source": [
        "#@title Execute Final read alignment using Pigeon Hole Principle and Dynamic Programming { vertical-output: true, display-mode: \"form\" }\n",
        "\n",
        "allowable_mismatches = 2 #@param {type:\"slider\", min:0, max:10, step:1}\n",
        "\n",
        "bwt = Wavelet_Tree_BWT()\n",
        "values = dynamic_Read_Alignment( bwt , allowable_mismatches )\n",
        "mywedge = { \"edgecolor\" : \"0\" , \"linewidth\" : 2 , \"linestyle\" : \"solid\" , \"antialiased\" : True }\n",
        "mylabels = [ \"Matches = \" + str(values[0]) , \" Approximate Matches = \" + str(values[1]) ,\"Mismatches = \" + str(values[2]) ]\n",
        "mytext = {'fontsize': 20}\n",
        "plt.pie( values , labels = mylabels , colors = [ \"green\" , \"yellow\" , \"red\" ] , autopct=\"%1.1f%%\" , wedgeprops = mywedge , radius = 2 , textprops = mytext )\n",
        "plt.show()\n"
      ],
      "metadata": {
        "colab": {
          "base_uri": "https://localhost:8080/",
          "height": 381
        },
        "outputId": "0535872a-48a9-4808-eb1f-8595d6641006",
        "id": "UtprSvEh1TZ-"
      },
      "execution_count": null,
      "outputs": [
        {
          "output_type": "display_data",
          "data": {
            "text/plain": [
              "<Figure size 432x288 with 1 Axes>"
            ],
            "image/png": "[encoded data removed]"
          },
          "metadata": {}
        }
      ]
    }
  ]
}